{
 "cells": [
  {
   "cell_type": "markdown",
   "id": "edde44e5",
   "metadata": {},
   "source": [
    "https://www.perplexity.ai/search/81642e0f-4214-4e4f-ba5a-a483c3484685"
   ]
  }
 ],
 "metadata": {
  "kernelspec": {
   "display_name": "data_analysis2_4",
   "language": "python",
   "name": "python3"
  },
  "language_info": {
   "name": "python",
   "version": "3.10.18"
  }
 },
 "nbformat": 4,
 "nbformat_minor": 5
}
