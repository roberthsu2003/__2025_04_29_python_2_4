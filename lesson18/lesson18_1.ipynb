{
 "cells": [
  {
   "cell_type": "markdown",
   "id": "edde44e5",
   "metadata": {},
   "source": [
    "https://www.perplexity.ai/search/81642e0f-4214-4e4f-ba5a-a483c3484685"
   ]
  },
  {
   "cell_type": "code",
   "execution_count": null,
   "id": "2a6e679e",
   "metadata": {},
   "outputs": [],
   "source": [
    "import pandas as pd\n",
    "\n",
    "df = pd.read_csv(\"各鄉鎮市區人口密度.csv\")\n",
    "df1 = df.rename(columns={\"statistic_yyy\":\"統計年\",\n",
    "                   \"site_id\":\"區域別\",\n",
    "                   \"people_total\":\"年底人口數\",\n",
    "                   \"area\":\"土地面積\",\n",
    "                   \"population_density\":\"人口密度\"\n",
    "                   })\n",
    "df1"
   ]
  },
  {
   "cell_type": "markdown",
   "id": "9a831623",
   "metadata": {},
   "source": [
    "### 更改欄位名稱"
   ]
  },
  {
   "cell_type": "code",
   "execution_count": null,
   "id": "66f8f705",
   "metadata": {},
   "outputs": [],
   "source": [
    "df.columns = [\"統計年\",\"區域別\",\"年底人口數\",\"土地面積\",\"人口密度\"]\n",
    "df"
   ]
  },
  {
   "cell_type": "markdown",
   "id": "8e238f2e",
   "metadata": {},
   "source": [
    "### 刪除統計年\n"
   ]
  },
  {
   "cell_type": "code",
   "execution_count": null,
   "id": "bc8df50a",
   "metadata": {},
   "outputs": [],
   "source": [
    "df2 = df.drop([\"統計年\"],axis=1)\n",
    "df2"
   ]
  },
  {
   "cell_type": "code",
   "execution_count": null,
   "id": "c2c0e8d8",
   "metadata": {},
   "outputs": [],
   "source": [
    "df3 = df2.dropna(axis=0)\n",
    "df3"
   ]
  },
  {
   "cell_type": "code",
   "execution_count": null,
   "id": "bd45ee30",
   "metadata": {},
   "outputs": [],
   "source": [
    "df4 = df3.drop(index=0)\n",
    "df4"
   ]
  }
 ],
 "metadata": {
  "kernelspec": {
   "display_name": "data_analysis2_4",
   "language": "python",
   "name": "python3"
  },
  "language_info": {
   "codemirror_mode": {
    "name": "ipython",
    "version": 3
   },
   "file_extension": ".py",
   "mimetype": "text/x-python",
   "name": "python",
   "nbconvert_exporter": "python",
   "pygments_lexer": "ipython3",
   "version": "3.10.18"
  }
 },
 "nbformat": 4,
 "nbformat_minor": 5
}
