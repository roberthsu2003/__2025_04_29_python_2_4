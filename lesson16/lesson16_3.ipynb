{
 "cells": [
  {
   "cell_type": "markdown",
   "id": "1f909c90",
   "metadata": {},
   "source": [
    "https://www.perplexity.ai/search/9037605f-7d32-4bed-887a-66ffe09265ab"
   ]
  },
  {
   "cell_type": "code",
   "execution_count": 6,
   "id": "08f2ea9a",
   "metadata": {},
   "outputs": [],
   "source": [
    "import numpy as np\n",
    "import pandas as pd\n",
    "#建立50位學生5個分數,每個分數的值是50~100之間的隨機整數\n",
    "scores = np.random.randint(50,101,size=(50, 5))\n",
    "score_pd = pd.DataFrame(scores,\n",
    "             columns=['國文', '英文', '數學', '地理', '歷史'],\n",
    "             index=[f'學生{index}' for index in range(1,51)])\n",
    "type(score_pd.index)\n",
    "score_pd.columns.name = '科目'\n",
    "score_pd.index.name = '學號'\n",
    "score_pd.to_excel('3年7班.xlsx',index=True)"
   ]
  }
 ],
 "metadata": {
  "kernelspec": {
   "display_name": "data_analysis2_4",
   "language": "python",
   "name": "python3"
  },
  "language_info": {
   "codemirror_mode": {
    "name": "ipython",
    "version": 3
   },
   "file_extension": ".py",
   "mimetype": "text/x-python",
   "name": "python",
   "nbconvert_exporter": "python",
   "pygments_lexer": "ipython3",
   "version": "3.10.18"
  }
 },
 "nbformat": 4,
 "nbformat_minor": 5
}
