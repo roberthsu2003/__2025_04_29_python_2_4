{
 "cells": [
  {
   "cell_type": "markdown",
   "id": "1f909c90",
   "metadata": {},
   "source": [
    "https://www.perplexity.ai/search/9037605f-7d32-4bed-887a-66ffe09265ab"
   ]
  },
  {
   "cell_type": "code",
   "execution_count": 6,
   "id": "08f2ea9a",
   "metadata": {},
   "outputs": [],
   "source": [
    "import numpy as np\n",
    "import pandas as pd\n",
    "#建立50位學生5個分數,每個分數的值是50~100之間的隨機整數\n",
    "scores = np.random.randint(50,101,size=(50, 5))\n",
    "score_pd = pd.DataFrame(scores,\n",
    "             columns=['國文', '英文', '數學', '地理', '歷史'],\n",
    "             index=[f'學生{index}' for index in range(1,51)])\n",
    "type(score_pd.index)\n",
    "score_pd.columns.name = '科目'\n",
    "score_pd.index.name = '學號'\n",
    "score_pd.to_excel('3年7班.xlsx',index=True)"
   ]
  },
  {
   "cell_type": "code",
   "execution_count": 28,
   "id": "1b81becb",
   "metadata": {},
   "outputs": [
    {
     "name": "stdout",
     "output_type": "stream",
     "text": [
      "3年5班.xlsx存檔完成\n",
      "3年7班.xlsx存檔完成\n",
      "3年6班.xlsx存檔完成\n"
     ]
    }
   ],
   "source": [
    "import os\n",
    "import pandas as pd\n",
    "\n",
    "def rank(filepath:str):\n",
    "    df = pd.read_excel(filepath,index_col='學號')\n",
    "    sum_series = np.sum(df, axis=1)\n",
    "    mean_series = df.mean(axis=1)\n",
    "    df['總分'] = sum_series\n",
    "    df['平均'] = mean_series\n",
    "    sorted_pd = df.sort_values(by='總分',ascending=False)\n",
    "    rand_series = sorted_pd['總分'].rank(ascending=False,method='min')\n",
    "    sorted_pd['名次'] = rand_series\n",
    "    script_path = os.path.realpath(__name__)\n",
    "    script_root = os.path.dirname(script_path)\n",
    "    finished_folder = os.path.join(script_root,\"excel_finished\")\n",
    "    filename = os.path.basename(filepath)\n",
    "    save_path = os.path.join(finished_folder, filename)\n",
    "    sorted_pd.to_excel(save_path,sheet_name=filename)\n",
    "    print(f'{filename}存檔完成')\n",
    "    \n",
    "script_path = os.path.realpath(__name__)\n",
    "script_root = os.path.dirname(script_path)\n",
    "excel_folder = os.path.join(script_root,\"excel\")\n",
    "for excel_name in os.listdir(excel_folder):\n",
    "    excel_path = os.path.join(excel_folder,excel_name)\n",
    "    rank(excel_path)"
   ]
  }
 ],
 "metadata": {
  "kernelspec": {
   "display_name": "data_analysis2_4",
   "language": "python",
   "name": "python3"
  },
  "language_info": {
   "codemirror_mode": {
    "name": "ipython",
    "version": 3
   },
   "file_extension": ".py",
   "mimetype": "text/x-python",
   "name": "python",
   "nbconvert_exporter": "python",
   "pygments_lexer": "ipython3",
   "version": "3.10.18"
  }
 },
 "nbformat": 4,
 "nbformat_minor": 5
}
