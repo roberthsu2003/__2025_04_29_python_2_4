{
 "cells": [
  {
   "cell_type": "markdown",
   "id": "0a011909",
   "metadata": {},
   "source": [
    "https://www.perplexity.ai/search/9e65c056-41ac-4275-abf3-718ccc0e498d"
   ]
  },
  {
   "cell_type": "code",
   "execution_count": null,
   "id": "9e13dac8",
   "metadata": {},
   "outputs": [],
   "source": [
    "import pandas as pd\n",
    "\n",
    "#檔案:相對路徑的寫法\n",
    "pd.read_csv('./data/台鐵車站資訊.csv')"
   ]
  },
  {
   "cell_type": "code",
   "execution_count": 11,
   "id": "63f63077",
   "metadata": {},
   "outputs": [],
   "source": [
    "#檔案:絕對目錄的寫法\n",
    "import os\n",
    "current_dir = os.path.dirname(os.path.abspath(__name__))\n",
    "data_dir = os.path.join(current_dir,'data')\n",
    "csv_filename = '台鐵車站資訊.csv'\n",
    "csv_path = os.path.join(data_dir,csv_filename)\n",
    "station_info = pd.read_csv(csv_path)"
   ]
  },
  {
   "cell_type": "code",
   "execution_count": 13,
   "id": "fddd54c0",
   "metadata": {},
   "outputs": [],
   "source": [
    "csv1_filename = '每日各站進出站人數2020.csv'\n",
    "csv1_path = os.path.join(data_dir, csv1_filename)\n",
    "inOut2020_df = pd.read_csv(csv1_path)"
   ]
  },
  {
   "cell_type": "code",
   "execution_count": null,
   "id": "735ce0af",
   "metadata": {},
   "outputs": [],
   "source": [
    "inOut2020_merge = pd.merge(inOut2020_df, station_info,how='left',left_on=\"staCode\",right_on=\"stationCode\")\n",
    "inOut2020_merge"
   ]
  }
 ],
 "metadata": {
  "kernelspec": {
   "display_name": "data_analysis2_4",
   "language": "python",
   "name": "python3"
  },
  "language_info": {
   "codemirror_mode": {
    "name": "ipython",
    "version": 3
   },
   "file_extension": ".py",
   "mimetype": "text/x-python",
   "name": "python",
   "nbconvert_exporter": "python",
   "pygments_lexer": "ipython3",
   "version": "3.10.18"
  }
 },
 "nbformat": 4,
 "nbformat_minor": 5
}
