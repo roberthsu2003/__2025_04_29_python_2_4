{
 "cells": [
  {
   "cell_type": "markdown",
   "id": "dbed7b6e",
   "metadata": {},
   "source": [
    "https://www.perplexity.ai/search/58cd595a-b8c3-46d6-b687-cc04dd624fb4"
   ]
  },
  {
   "cell_type": "code",
   "execution_count": null,
   "id": "ad857039",
   "metadata": {},
   "outputs": [],
   "source": [
    "import pandas as pd\n",
    "df = pd.read_csv('個股日成交資訊.csv')\n",
    "df"
   ]
  },
  {
   "cell_type": "code",
   "execution_count": null,
   "id": "f25c7add",
   "metadata": {},
   "outputs": [],
   "source": [
    "#使用mask,選取資料\n",
    "df[df['證券名稱'] == '富邦科技']"
   ]
  },
  {
   "cell_type": "code",
   "execution_count": null,
   "id": "b46ce88f",
   "metadata": {},
   "outputs": [],
   "source": [
    "df.info()"
   ]
  },
  {
   "cell_type": "code",
   "execution_count": null,
   "id": "5a4c7795",
   "metadata": {},
   "outputs": [],
   "source": [
    "import pandas as pd\n",
    "df = pd.read_csv('個股日成交資訊.csv',usecols=['證券代號','證券名稱','開盤價','收盤價','漲跌價差'],index_col='證券代號')\n",
    "df"
   ]
  },
  {
   "cell_type": "code",
   "execution_count": null,
   "id": "b4af987c",
   "metadata": {},
   "outputs": [],
   "source": [
    "df.info()"
   ]
  },
  {
   "cell_type": "code",
   "execution_count": null,
   "id": "814dad51",
   "metadata": {},
   "outputs": [],
   "source": [
    "df.loc['0050']\n",
    "df.loc['0050':'0055']\n",
    "df.iloc[:10]"
   ]
  }
 ],
 "metadata": {
  "kernelspec": {
   "display_name": "data_analysis2_4",
   "language": "python",
   "name": "python3"
  },
  "language_info": {
   "codemirror_mode": {
    "name": "ipython",
    "version": 3
   },
   "file_extension": ".py",
   "mimetype": "text/x-python",
   "name": "python",
   "nbconvert_exporter": "python",
   "pygments_lexer": "ipython3",
   "version": "3.10.18"
  }
 },
 "nbformat": 4,
 "nbformat_minor": 5
}
