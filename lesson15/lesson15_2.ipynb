{
 "cells": [
  {
   "cell_type": "markdown",
   "id": "15d95921",
   "metadata": {},
   "source": [
    "https://www.perplexity.ai/search/27854047-0059-44b3-b1ed-b6dbdddd6505"
   ]
  },
  {
   "cell_type": "markdown",
   "id": "f3008683",
   "metadata": {},
   "source": [
    "### numpy的索引和切割"
   ]
  },
  {
   "cell_type": "code",
   "execution_count": 3,
   "id": "ce69cb01",
   "metadata": {},
   "outputs": [
    {
     "data": {
      "text/plain": [
       "array([[58, 91, 72, 62, 99],\n",
       "       [82, 59, 53, 67, 57],\n",
       "       [74, 79, 79, 58, 79],\n",
       "       [63, 82, 58, 76, 93],\n",
       "       [61, 83, 61, 94, 72]])"
      ]
     },
     "execution_count": 3,
     "metadata": {},
     "output_type": "execute_result"
    }
   ],
   "source": [
    "import numpy as np\n",
    "scores = np.random.randint(50,101,size=(5,5))\n",
    "scores"
   ]
  },
  {
   "cell_type": "code",
   "execution_count": 4,
   "id": "0561a796",
   "metadata": {},
   "outputs": [
    {
     "data": {
      "text/plain": [
       "array([[72, 62, 99],\n",
       "       [53, 67, 57],\n",
       "       [79, 58, 79]])"
      ]
     },
     "execution_count": 4,
     "metadata": {},
     "output_type": "execute_result"
    }
   ],
   "source": [
    "scores[:3,2:]"
   ]
  },
  {
   "cell_type": "code",
   "execution_count": 10,
   "id": "62191e98",
   "metadata": {},
   "outputs": [
    {
     "data": {
      "text/plain": [
       "array([[61, 83, 61, 94, 72]])"
      ]
     },
     "execution_count": 10,
     "metadata": {},
     "output_type": "execute_result"
    }
   ],
   "source": [
    "scores[4]\n",
    "scores[4,:]\n",
    "scores[4:,:]"
   ]
  },
  {
   "cell_type": "code",
   "execution_count": 11,
   "id": "6802439b",
   "metadata": {},
   "outputs": [
    {
     "data": {
      "text/plain": [
       "array([[58, 91],\n",
       "       [82, 59],\n",
       "       [74, 79],\n",
       "       [63, 82],\n",
       "       [61, 83]])"
      ]
     },
     "execution_count": 11,
     "metadata": {},
     "output_type": "execute_result"
    }
   ],
   "source": [
    "scores[:,:2]"
   ]
  },
  {
   "cell_type": "markdown",
   "id": "54c0e622",
   "metadata": {},
   "source": [
    "### numpy的統計工具"
   ]
  },
  {
   "cell_type": "code",
   "execution_count": 12,
   "id": "399e51c1",
   "metadata": {},
   "outputs": [
    {
     "data": {
      "text/plain": [
       "array([[ 95,  88,  86,  67,  51],\n",
       "       [ 74,  72, 100,  95,  63],\n",
       "       [ 97,  73,  91,  59,  85],\n",
       "       [ 91,  51,  54,  75,  66],\n",
       "       [ 91,  93,  83,  65,  59]])"
      ]
     },
     "execution_count": 12,
     "metadata": {},
     "output_type": "execute_result"
    }
   ],
   "source": [
    "scores = np.random.randint(50,101,size=(5,5))\n",
    "scores"
   ]
  },
  {
   "cell_type": "code",
   "execution_count": 13,
   "id": "83be5bb5",
   "metadata": {},
   "outputs": [
    {
     "data": {
      "text/plain": [
       "array([387, 404, 405, 337, 391])"
      ]
     },
     "execution_count": 13,
     "metadata": {},
     "output_type": "execute_result"
    }
   ],
   "source": [
    "scores[:,0] + scores[:,1] + scores[:,2] + scores[:,3] + scores[:,4]"
   ]
  },
  {
   "cell_type": "code",
   "execution_count": null,
   "id": "de2e9ca8",
   "metadata": {},
   "outputs": [
    {
     "data": {
      "text/plain": [
       "array([387, 404, 405, 337, 391])"
      ]
     },
     "execution_count": 14,
     "metadata": {},
     "output_type": "execute_result"
    }
   ],
   "source": [
    "#加總\n",
    "np.sum(scores,axis=1)"
   ]
  },
  {
   "cell_type": "code",
   "execution_count": 15,
   "id": "c9dc6711",
   "metadata": {},
   "outputs": [
    {
     "data": {
      "text/plain": [
       "array([77.4, 80.8, 81. , 67.4, 78.2])"
      ]
     },
     "execution_count": 15,
     "metadata": {},
     "output_type": "execute_result"
    }
   ],
   "source": [
    "#平均\n",
    "np.mean(scores, axis=1)"
   ]
  },
  {
   "cell_type": "code",
   "execution_count": 16,
   "id": "649fc525",
   "metadata": {},
   "outputs": [
    {
     "data": {
      "text/plain": [
       "array([ 95, 100,  97,  91,  93])"
      ]
     },
     "execution_count": 16,
     "metadata": {},
     "output_type": "execute_result"
    }
   ],
   "source": [
    "#最大\n",
    "np.max(scores,axis=1)"
   ]
  },
  {
   "cell_type": "code",
   "execution_count": 17,
   "id": "086ae060",
   "metadata": {},
   "outputs": [
    {
     "data": {
      "text/plain": [
       "array([51, 63, 59, 51, 59])"
      ]
     },
     "execution_count": 17,
     "metadata": {},
     "output_type": "execute_result"
    }
   ],
   "source": [
    "#最小\n",
    "np.min(scores,axis=1)"
   ]
  },
  {
   "cell_type": "code",
   "execution_count": 18,
   "id": "855947b6",
   "metadata": {},
   "outputs": [
    {
     "data": {
      "text/plain": [
       "array([86., 74., 85., 66., 83.])"
      ]
     },
     "execution_count": 18,
     "metadata": {},
     "output_type": "execute_result"
    }
   ],
   "source": [
    "#中間數\n",
    "np.median(scores,axis=1)"
   ]
  },
  {
   "cell_type": "code",
   "execution_count": 19,
   "id": "54df0292",
   "metadata": {},
   "outputs": [
    {
     "data": {
      "text/plain": [
       "array([16.13195586, 14.21829807, 13.56465997, 14.59588983, 13.77534029])"
      ]
     },
     "execution_count": 19,
     "metadata": {},
     "output_type": "execute_result"
    }
   ],
   "source": [
    "#標準差\n",
    "np.std(scores,axis=1)"
   ]
  }
 ],
 "metadata": {
  "kernelspec": {
   "display_name": "python2_4",
   "language": "python",
   "name": "python3"
  },
  "language_info": {
   "codemirror_mode": {
    "name": "ipython",
    "version": 3
   },
   "file_extension": ".py",
   "mimetype": "text/x-python",
   "name": "python",
   "nbconvert_exporter": "python",
   "pygments_lexer": "ipython3",
   "version": "3.11.11"
  }
 },
 "nbformat": 4,
 "nbformat_minor": 5
}
