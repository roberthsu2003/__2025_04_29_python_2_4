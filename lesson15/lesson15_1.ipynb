{
 "cells": [
  {
   "cell_type": "markdown",
   "id": "a26c6bcd",
   "metadata": {},
   "source": [
    "https://www.perplexity.ai/search/1f6d8098-e981-44bf-b915-b14b9e9052da"
   ]
  },
  {
   "cell_type": "code",
   "execution_count": 2,
   "id": "f4229a82",
   "metadata": {},
   "outputs": [
    {
     "data": {
      "text/plain": [
       "array([1, 3, 5, 7, 9])"
      ]
     },
     "execution_count": 2,
     "metadata": {},
     "output_type": "execute_result"
    }
   ],
   "source": [
    "import numpy as np\n",
    "np.array([1, 3, 5, 7, 9])"
   ]
  },
  {
   "cell_type": "code",
   "execution_count": 3,
   "id": "01e9dafa",
   "metadata": {},
   "outputs": [
    {
     "data": {
      "text/plain": [
       "array([[0., 0., 0., 0.],\n",
       "       [0., 0., 0., 0.],\n",
       "       [0., 0., 0., 0.]])"
      ]
     },
     "execution_count": 3,
     "metadata": {},
     "output_type": "execute_result"
    }
   ],
   "source": [
    "np.zeros((3, 4))"
   ]
  },
  {
   "cell_type": "code",
   "execution_count": 4,
   "id": "0aa4a2f6",
   "metadata": {},
   "outputs": [
    {
     "data": {
      "text/plain": [
       "array([[1., 1., 1., 1.],\n",
       "       [1., 1., 1., 1.],\n",
       "       [1., 1., 1., 1.]])"
      ]
     },
     "execution_count": 4,
     "metadata": {},
     "output_type": "execute_result"
    }
   ],
   "source": [
    "np.ones((3,4))"
   ]
  },
  {
   "cell_type": "code",
   "execution_count": 5,
   "id": "03df2c66",
   "metadata": {},
   "outputs": [
    {
     "data": {
      "text/plain": [
       "array([0. , 0.1, 0.2, 0.3, 0.4, 0.5, 0.6, 0.7, 0.8, 0.9])"
      ]
     },
     "execution_count": 5,
     "metadata": {},
     "output_type": "execute_result"
    }
   ],
   "source": [
    "np.arange(0,1,0.1)"
   ]
  },
  {
   "cell_type": "code",
   "execution_count": 6,
   "id": "eb23bb4e",
   "metadata": {},
   "outputs": [
    {
     "data": {
      "text/plain": [
       "array([0.        , 0.11111111, 0.22222222, 0.33333333, 0.44444444,\n",
       "       0.55555556, 0.66666667, 0.77777778, 0.88888889, 1.        ])"
      ]
     },
     "execution_count": 6,
     "metadata": {},
     "output_type": "execute_result"
    }
   ],
   "source": [
    "np.linspace(0,1,10)"
   ]
  },
  {
   "cell_type": "code",
   "execution_count": 7,
   "id": "3d194f71",
   "metadata": {},
   "outputs": [
    {
     "data": {
      "text/plain": [
       "array([[0.6229407 , 0.80029474, 0.39864527, 0.14802886],\n",
       "       [0.84010517, 0.22241847, 0.66698675, 0.84342453],\n",
       "       [0.36296261, 0.40864043, 0.08221354, 0.36211242]])"
      ]
     },
     "execution_count": 7,
     "metadata": {},
     "output_type": "execute_result"
    }
   ],
   "source": [
    "np.random.rand(3, 4)"
   ]
  },
  {
   "cell_type": "code",
   "execution_count": null,
   "id": "6e407ced",
   "metadata": {},
   "outputs": [
    {
     "data": {
      "text/plain": [
       "array([[ 76,  83,  66,  50,  89],\n",
       "       [ 52,  75,  68,  62,  84],\n",
       "       [ 70,  65,  86,  67,  84],\n",
       "       [ 98,  73,  63,  82,  89],\n",
       "       [ 60,  70,  95,  79,  60],\n",
       "       [ 82,  54,  60,  70,  51],\n",
       "       [ 68,  71,  58,  56,  59],\n",
       "       [ 57,  95,  58,  80,  63],\n",
       "       [ 71,  84,  56,  94,  74],\n",
       "       [ 72,  60,  89,  85,  59],\n",
       "       [ 51,  91,  63,  51,  75],\n",
       "       [ 75,  57,  50,  76,  85],\n",
       "       [ 59,  70,  61,  68,  73],\n",
       "       [ 61,  78,  50,  64,  98],\n",
       "       [ 56,  79,  50,  81,  58],\n",
       "       [ 85, 100,  92,  86,  85],\n",
       "       [ 73,  99,  79,  73,  96],\n",
       "       [ 73,  53,  78,  78,  77],\n",
       "       [ 58,  70,  60,  56,  72],\n",
       "       [ 77,  81,  79,  77,  59],\n",
       "       [ 88,  78,  96,  84,  85],\n",
       "       [ 51,  84,  72,  55,  51],\n",
       "       [ 85,  89,  87,  89,  93],\n",
       "       [ 63,  80,  80,  83,  98],\n",
       "       [ 76,  81,  93,  63,  79],\n",
       "       [ 59, 100,  98,  61,  79],\n",
       "       [ 70,  96,  82, 100,  84],\n",
       "       [ 68,  73,  80,  89,  73],\n",
       "       [ 56,  51,  76,  94,  60],\n",
       "       [ 82,  73,  83,  51,  96],\n",
       "       [ 92,  84,  54,  91,  96],\n",
       "       [ 91,  94,  67,  89,  68],\n",
       "       [ 51,  64,  83,  65,  97],\n",
       "       [ 74,  82,  71,  61,  67],\n",
       "       [ 81,  86,  78,  66,  82],\n",
       "       [ 61,  91,  63,  62,  68],\n",
       "       [ 66,  51,  92,  53,  50],\n",
       "       [ 80,  54,  95,  97,  66],\n",
       "       [ 50,  65,  63,  79,  74],\n",
       "       [ 84,  98,  60,  80,  53],\n",
       "       [ 96,  52,  59,  72,  74],\n",
       "       [ 81,  50,  57,  62,  89],\n",
       "       [ 52,  74,  92,  89,  64],\n",
       "       [ 97,  74,  82,  58,  85],\n",
       "       [ 91,  76,  71,  64,  57],\n",
       "       [ 96,  88,  84,  82,  55],\n",
       "       [100,  86,  92,  77,  53],\n",
       "       [ 58,  57,  65,  93,  56],\n",
       "       [ 90,  86,  75,  51,  70],\n",
       "       [ 57,  96,  64,  81, 100]])"
      ]
     },
     "execution_count": 8,
     "metadata": {},
     "output_type": "execute_result"
    }
   ],
   "source": [
    "scores = np.random.randint(50,101,size=(50, 5))"
   ]
  }
 ],
 "metadata": {
  "kernelspec": {
   "display_name": "python2_4",
   "language": "python",
   "name": "python3"
  },
  "language_info": {
   "codemirror_mode": {
    "name": "ipython",
    "version": 3
   },
   "file_extension": ".py",
   "mimetype": "text/x-python",
   "name": "python",
   "nbconvert_exporter": "python",
   "pygments_lexer": "ipython3",
   "version": "3.11.11"
  }
 },
 "nbformat": 4,
 "nbformat_minor": 5
}
