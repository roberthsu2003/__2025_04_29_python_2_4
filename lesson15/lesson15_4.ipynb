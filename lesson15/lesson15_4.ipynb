{
 "cells": [
  {
   "cell_type": "markdown",
   "id": "175727f1",
   "metadata": {},
   "source": [
    "https://www.perplexity.ai/search/f9b40ada-565a-4ef9-aba5-3afd8763b3ca"
   ]
  },
  {
   "cell_type": "code",
   "execution_count": 2,
   "id": "e6acfacd",
   "metadata": {},
   "outputs": [
    {
     "data": {
      "text/plain": [
       "0     50\n",
       "1     51\n",
       "2     52\n",
       "3     53\n",
       "4     54\n",
       "5     55\n",
       "6     56\n",
       "7     57\n",
       "8     58\n",
       "9     59\n",
       "10    60\n",
       "11    61\n",
       "12    62\n",
       "13    63\n",
       "14    64\n",
       "15    65\n",
       "16    66\n",
       "17    67\n",
       "18    68\n",
       "19    69\n",
       "dtype: int64"
      ]
     },
     "execution_count": 2,
     "metadata": {},
     "output_type": "execute_result"
    }
   ],
   "source": [
    "import numpy as np\n",
    "import pandas as pd\n",
    "\n",
    "s1 = pd.Series(np.arange(50,70))\n",
    "s1"
   ]
  },
  {
   "cell_type": "code",
   "execution_count": 3,
   "id": "a7949fc6",
   "metadata": {},
   "outputs": [
    {
     "data": {
      "text/plain": [
       "10    60\n",
       "11    61\n",
       "12    62\n",
       "13    63\n",
       "14    64\n",
       "15    65\n",
       "16    66\n",
       "17    67\n",
       "18    68\n",
       "19    69\n",
       "dtype: int64"
      ]
     },
     "execution_count": 3,
     "metadata": {},
     "output_type": "execute_result"
    }
   ],
   "source": [
    "#透過值的選取\n",
    "#值的搜尋\n",
    "#mask的技巧,要使用比較運算子得到boolean的資料\n",
    "mask = s1 >= 60\n",
    "s1[mask]"
   ]
  },
  {
   "cell_type": "code",
   "execution_count": 4,
   "id": "c5a53a67",
   "metadata": {},
   "outputs": [
    {
     "data": {
      "text/plain": [
       "0    50\n",
       "1    51\n",
       "2    52\n",
       "3    53\n",
       "4    54\n",
       "5    55\n",
       "6    56\n",
       "7    57\n",
       "8    58\n",
       "9    59\n",
       "dtype: int64"
      ]
     },
     "execution_count": 4,
     "metadata": {},
     "output_type": "execute_result"
    }
   ],
   "source": [
    "s1[s1 < 60]"
   ]
  },
  {
   "cell_type": "code",
   "execution_count": 5,
   "id": "d38cf6a0",
   "metadata": {},
   "outputs": [
    {
     "data": {
      "text/html": [
       "<div>\n",
       "<style scoped>\n",
       "    .dataframe tbody tr th:only-of-type {\n",
       "        vertical-align: middle;\n",
       "    }\n",
       "\n",
       "    .dataframe tbody tr th {\n",
       "        vertical-align: top;\n",
       "    }\n",
       "\n",
       "    .dataframe thead th {\n",
       "        text-align: right;\n",
       "    }\n",
       "</style>\n",
       "<table border=\"1\" class=\"dataframe\">\n",
       "  <thead>\n",
       "    <tr style=\"text-align: right;\">\n",
       "      <th></th>\n",
       "      <th>國文</th>\n",
       "      <th>英文</th>\n",
       "      <th>數學</th>\n",
       "      <th>地理</th>\n",
       "      <th>歷史</th>\n",
       "    </tr>\n",
       "  </thead>\n",
       "  <tbody>\n",
       "    <tr>\n",
       "      <th>學生1</th>\n",
       "      <td>50</td>\n",
       "      <td>80</td>\n",
       "      <td>58</td>\n",
       "      <td>97</td>\n",
       "      <td>93</td>\n",
       "    </tr>\n",
       "    <tr>\n",
       "      <th>學生2</th>\n",
       "      <td>83</td>\n",
       "      <td>98</td>\n",
       "      <td>50</td>\n",
       "      <td>62</td>\n",
       "      <td>97</td>\n",
       "    </tr>\n",
       "    <tr>\n",
       "      <th>學生3</th>\n",
       "      <td>77</td>\n",
       "      <td>58</td>\n",
       "      <td>51</td>\n",
       "      <td>99</td>\n",
       "      <td>85</td>\n",
       "    </tr>\n",
       "    <tr>\n",
       "      <th>學生4</th>\n",
       "      <td>98</td>\n",
       "      <td>53</td>\n",
       "      <td>94</td>\n",
       "      <td>92</td>\n",
       "      <td>78</td>\n",
       "    </tr>\n",
       "    <tr>\n",
       "      <th>學生5</th>\n",
       "      <td>98</td>\n",
       "      <td>75</td>\n",
       "      <td>93</td>\n",
       "      <td>64</td>\n",
       "      <td>58</td>\n",
       "    </tr>\n",
       "  </tbody>\n",
       "</table>\n",
       "</div>"
      ],
      "text/plain": [
       "     國文  英文  數學  地理  歷史\n",
       "學生1  50  80  58  97  93\n",
       "學生2  83  98  50  62  97\n",
       "學生3  77  58  51  99  85\n",
       "學生4  98  53  94  92  78\n",
       "學生5  98  75  93  64  58"
      ]
     },
     "execution_count": 5,
     "metadata": {},
     "output_type": "execute_result"
    }
   ],
   "source": [
    "##DataFrame\n",
    "data = np.random.randint(50, 101,size=(5,5))\n",
    "df = pd.DataFrame(data,\n",
    "            index=[\"學生1\",\"學生2\",\"學生3\",\"學生4\",\"學生5\"],\n",
    "            columns=[\"國文\",\"英文\",\"數學\",\"地理\",\"歷史\"])\n",
    "df"
   ]
  },
  {
   "cell_type": "code",
   "execution_count": 7,
   "id": "06fc80e0",
   "metadata": {},
   "outputs": [
    {
     "data": {
      "text/html": [
       "<div>\n",
       "<style scoped>\n",
       "    .dataframe tbody tr th:only-of-type {\n",
       "        vertical-align: middle;\n",
       "    }\n",
       "\n",
       "    .dataframe tbody tr th {\n",
       "        vertical-align: top;\n",
       "    }\n",
       "\n",
       "    .dataframe thead th {\n",
       "        text-align: right;\n",
       "    }\n",
       "</style>\n",
       "<table border=\"1\" class=\"dataframe\">\n",
       "  <thead>\n",
       "    <tr style=\"text-align: right;\">\n",
       "      <th></th>\n",
       "      <th>國文</th>\n",
       "      <th>英文</th>\n",
       "      <th>數學</th>\n",
       "      <th>地理</th>\n",
       "      <th>歷史</th>\n",
       "    </tr>\n",
       "  </thead>\n",
       "  <tbody>\n",
       "    <tr>\n",
       "      <th>學生1</th>\n",
       "      <td>50</td>\n",
       "      <td>80</td>\n",
       "      <td>58</td>\n",
       "      <td>97</td>\n",
       "      <td>93</td>\n",
       "    </tr>\n",
       "    <tr>\n",
       "      <th>學生2</th>\n",
       "      <td>83</td>\n",
       "      <td>98</td>\n",
       "      <td>50</td>\n",
       "      <td>62</td>\n",
       "      <td>97</td>\n",
       "    </tr>\n",
       "    <tr>\n",
       "      <th>學生3</th>\n",
       "      <td>77</td>\n",
       "      <td>58</td>\n",
       "      <td>51</td>\n",
       "      <td>99</td>\n",
       "      <td>85</td>\n",
       "    </tr>\n",
       "    <tr>\n",
       "      <th>學生4</th>\n",
       "      <td>98</td>\n",
       "      <td>53</td>\n",
       "      <td>94</td>\n",
       "      <td>92</td>\n",
       "      <td>78</td>\n",
       "    </tr>\n",
       "  </tbody>\n",
       "</table>\n",
       "</div>"
      ],
      "text/plain": [
       "     國文  英文  數學  地理  歷史\n",
       "學生1  50  80  58  97  93\n",
       "學生2  83  98  50  62  97\n",
       "學生3  77  58  51  99  85\n",
       "學生4  98  53  94  92  78"
      ]
     },
     "execution_count": 7,
     "metadata": {},
     "output_type": "execute_result"
    }
   ],
   "source": [
    "#選取歷史>=60\n",
    "df[df['歷史'] >= 60]"
   ]
  },
  {
   "cell_type": "code",
   "execution_count": null,
   "id": "4a69a242",
   "metadata": {},
   "outputs": [
    {
     "data": {
      "text/html": [
       "<div>\n",
       "<style scoped>\n",
       "    .dataframe tbody tr th:only-of-type {\n",
       "        vertical-align: middle;\n",
       "    }\n",
       "\n",
       "    .dataframe tbody tr th {\n",
       "        vertical-align: top;\n",
       "    }\n",
       "\n",
       "    .dataframe thead th {\n",
       "        text-align: right;\n",
       "    }\n",
       "</style>\n",
       "<table border=\"1\" class=\"dataframe\">\n",
       "  <thead>\n",
       "    <tr style=\"text-align: right;\">\n",
       "      <th></th>\n",
       "      <th>國文</th>\n",
       "      <th>英文</th>\n",
       "      <th>數學</th>\n",
       "      <th>地理</th>\n",
       "      <th>歷史</th>\n",
       "    </tr>\n",
       "  </thead>\n",
       "  <tbody>\n",
       "    <tr>\n",
       "      <th>學生4</th>\n",
       "      <td>98</td>\n",
       "      <td>53</td>\n",
       "      <td>94</td>\n",
       "      <td>92</td>\n",
       "      <td>78</td>\n",
       "    </tr>\n",
       "  </tbody>\n",
       "</table>\n",
       "</div>"
      ],
      "text/plain": [
       "     國文  英文  數學  地理  歷史\n",
       "學生4  98  53  94  92  78"
      ]
     },
     "execution_count": 15,
     "metadata": {},
     "output_type": "execute_result"
    }
   ],
   "source": [
    "#選取歷史>=60同時數學>=60\n",
    "#位元邏輯運算子\n",
    "df[(df['歷史'] >= 60) & (df['數學'] >= 60)]"
   ]
  }
 ],
 "metadata": {
  "kernelspec": {
   "display_name": "python2_4",
   "language": "python",
   "name": "python3"
  },
  "language_info": {
   "codemirror_mode": {
    "name": "ipython",
    "version": 3
   },
   "file_extension": ".py",
   "mimetype": "text/x-python",
   "name": "python",
   "nbconvert_exporter": "python",
   "pygments_lexer": "ipython3",
   "version": "3.11.11"
  }
 },
 "nbformat": 4,
 "nbformat_minor": 5
}
