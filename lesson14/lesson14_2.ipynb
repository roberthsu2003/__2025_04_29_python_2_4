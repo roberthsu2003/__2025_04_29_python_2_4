{
 "cells": [
  {
   "cell_type": "markdown",
   "id": "f43ba33b",
   "metadata": {},
   "source": [
    "# ndarry的索引(index),切割(slice)"
   ]
  },
  {
   "cell_type": "code",
   "execution_count": 4,
   "id": "4a448b00",
   "metadata": {},
   "outputs": [
    {
     "data": {
      "text/plain": [
       "array([7, 8, 9])"
      ]
     },
     "execution_count": 4,
     "metadata": {},
     "output_type": "execute_result"
    }
   ],
   "source": [
    "import numpy as np\n",
    "\n",
    "arr = np.arange(10)\n",
    "arr[0]\n",
    "arr[-1]\n",
    "arr[:3]\n",
    "arr[-3:]"
   ]
  },
  {
   "cell_type": "code",
   "execution_count": 5,
   "id": "7c9387bc",
   "metadata": {},
   "outputs": [
    {
     "data": {
      "text/plain": [
       "85"
      ]
     },
     "execution_count": 5,
     "metadata": {},
     "output_type": "execute_result"
    }
   ],
   "source": [
    "import random\n",
    "random.randint(50,100)"
   ]
  },
  {
   "cell_type": "code",
   "execution_count": 11,
   "id": "7c8d7057",
   "metadata": {},
   "outputs": [
    {
     "data": {
      "text/plain": [
       "(50, 5)"
      ]
     },
     "execution_count": 11,
     "metadata": {},
     "output_type": "execute_result"
    }
   ],
   "source": [
    "np.random.randint(50, 101, size=5)\n",
    "scores = np.random.randint(50,101, size=(50, 5))\n",
    "scores.size\n",
    "scores.shape"
   ]
  },
  {
   "cell_type": "code",
   "execution_count": 14,
   "id": "c7b62588",
   "metadata": {},
   "outputs": [
    {
     "data": {
      "text/plain": [
       "array([[52],\n",
       "       [73],\n",
       "       [82],\n",
       "       [61],\n",
       "       [62],\n",
       "       [69],\n",
       "       [67],\n",
       "       [81],\n",
       "       [76],\n",
       "       [56],\n",
       "       [79],\n",
       "       [65],\n",
       "       [84],\n",
       "       [83],\n",
       "       [97],\n",
       "       [74],\n",
       "       [92],\n",
       "       [90],\n",
       "       [69],\n",
       "       [73],\n",
       "       [51],\n",
       "       [98],\n",
       "       [59],\n",
       "       [74],\n",
       "       [98],\n",
       "       [86],\n",
       "       [64],\n",
       "       [92],\n",
       "       [86],\n",
       "       [65],\n",
       "       [87],\n",
       "       [96],\n",
       "       [78],\n",
       "       [68],\n",
       "       [91],\n",
       "       [50],\n",
       "       [89],\n",
       "       [54],\n",
       "       [97],\n",
       "       [89],\n",
       "       [72],\n",
       "       [97],\n",
       "       [94],\n",
       "       [51],\n",
       "       [89],\n",
       "       [65],\n",
       "       [83],\n",
       "       [70],\n",
       "       [71],\n",
       "       [66]])"
      ]
     },
     "execution_count": 14,
     "metadata": {},
     "output_type": "execute_result"
    }
   ],
   "source": [
    "scores[:,0]\n",
    "scores[:,0:1]"
   ]
  },
  {
   "cell_type": "code",
   "execution_count": 17,
   "id": "1fa1a875",
   "metadata": {},
   "outputs": [
    {
     "data": {
      "text/plain": [
       "array([[52, 92, 57, 72, 83]])"
      ]
     },
     "execution_count": 17,
     "metadata": {},
     "output_type": "execute_result"
    }
   ],
   "source": [
    "scores[0,:]\n",
    "scores[0:1,:]"
   ]
  },
  {
   "cell_type": "code",
   "execution_count": 21,
   "id": "92f63c2a",
   "metadata": {},
   "outputs": [
    {
     "data": {
      "text/plain": [
       "array([71.2, 72. , 75.2, 78. , 75.2, 80. , 71.2, 81. , 76.2, 74.4, 78.2,\n",
       "       79.2, 80.4, 78.2, 87.2, 74.6, 77. , 80. , 85.6, 77.6, 68.4, 88. ,\n",
       "       79. , 73. , 79. , 83.2, 64.8, 89.8, 78.2, 68.6, 79.6, 80.8, 87.4,\n",
       "       67. , 87.2, 63.8, 77.4, 73.2, 68.2, 72.4, 75. , 89.2, 78.6, 72. ,\n",
       "       78. , 83.8, 76.8, 64.2, 76.8, 63.2])"
      ]
     },
     "execution_count": 21,
     "metadata": {},
     "output_type": "execute_result"
    }
   ],
   "source": [
    "np.sum(scores,axis=1)\n",
    "np.mean(scores, axis=1)"
   ]
  }
 ],
 "metadata": {
  "kernelspec": {
   "display_name": "python2_4",
   "language": "python",
   "name": "python3"
  },
  "language_info": {
   "codemirror_mode": {
    "name": "ipython",
    "version": 3
   },
   "file_extension": ".py",
   "mimetype": "text/x-python",
   "name": "python",
   "nbconvert_exporter": "python",
   "pygments_lexer": "ipython3",
   "version": "3.11.11"
  }
 },
 "nbformat": 4,
 "nbformat_minor": 5
}
