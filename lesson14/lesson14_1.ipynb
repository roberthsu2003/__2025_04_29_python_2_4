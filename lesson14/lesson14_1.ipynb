{
 "cells": [
  {
   "cell_type": "markdown",
   "id": "8a0db8ff",
   "metadata": {},
   "source": [
    "https://www.perplexity.ai/search/0ead468a-cad0-4bd6-8c76-b23fcd5773f4"
   ]
  },
  {
   "cell_type": "code",
   "execution_count": null,
   "id": "079cf14a",
   "metadata": {},
   "outputs": [
    {
     "data": {
      "text/plain": [
       "[1, 3, 5, 7, 9, 2, 4, 6, 8, 10]"
      ]
     },
     "execution_count": 1,
     "metadata": {},
     "output_type": "execute_result"
    }
   ],
   "source": [
    "odd = [1, 3, 5, 7, 9]\n",
    "even = [2, 4, 6, 8, 10]\n",
    "\n",
    "#list使用`+`運算子\n",
    "odd + even\n",
    "\n",
    "#如果要對元素作用,必需取出元素"
   ]
  },
  {
   "cell_type": "code",
   "execution_count": null,
   "id": "9a82010a",
   "metadata": {},
   "outputs": [
    {
     "data": {
      "text/plain": [
       "array([1, 1, 1, 1, 1])"
      ]
     },
     "execution_count": 8,
     "metadata": {},
     "output_type": "execute_result"
    }
   ],
   "source": [
    "import numpy as np\n",
    "\n",
    "odd_array = np.array(odd)\n",
    "even_array = np.array(even)\n",
    "\n",
    "#ndarray使用`+`運算子\n",
    "#ndarray -> 陣列運算\n",
    "#就可以省略for...in 迴圈\n",
    "odd_array + even_array\n",
    "odd_array * even_array\n",
    "odd_array / even_array\n",
    "even_array - odd_array"
   ]
  },
  {
   "cell_type": "code",
   "execution_count": 12,
   "id": "d90a5944",
   "metadata": {},
   "outputs": [
    {
     "data": {
      "text/plain": [
       "array([1. , 1.6, 2.2, 2.8, 3.4, 4. , 4.6, 5.2])"
      ]
     },
     "execution_count": 12,
     "metadata": {},
     "output_type": "execute_result"
    }
   ],
   "source": [
    "np.arange(5)\n",
    "np.arange(1, 5)\n",
    "np.arange(1, 5, 2)\n",
    "np.arange(1, 5.2, 0.6)"
   ]
  },
  {
   "cell_type": "code",
   "execution_count": 14,
   "id": "041c2010",
   "metadata": {},
   "outputs": [
    {
     "data": {
      "text/plain": [
       "array([0.        , 0.02040816, 0.04081633, 0.06122449, 0.08163265,\n",
       "       0.10204082, 0.12244898, 0.14285714, 0.16326531, 0.18367347,\n",
       "       0.20408163, 0.2244898 , 0.24489796, 0.26530612, 0.28571429,\n",
       "       0.30612245, 0.32653061, 0.34693878, 0.36734694, 0.3877551 ,\n",
       "       0.40816327, 0.42857143, 0.44897959, 0.46938776, 0.48979592,\n",
       "       0.51020408, 0.53061224, 0.55102041, 0.57142857, 0.59183673,\n",
       "       0.6122449 , 0.63265306, 0.65306122, 0.67346939, 0.69387755,\n",
       "       0.71428571, 0.73469388, 0.75510204, 0.7755102 , 0.79591837,\n",
       "       0.81632653, 0.83673469, 0.85714286, 0.87755102, 0.89795918,\n",
       "       0.91836735, 0.93877551, 0.95918367, 0.97959184, 1.        ])"
      ]
     },
     "execution_count": 14,
     "metadata": {},
     "output_type": "execute_result"
    }
   ],
   "source": [
    "np.linspace(0,1,5)\n",
    "np.linspace(0,1,50)"
   ]
  },
  {
   "cell_type": "markdown",
   "id": "8eb7e73d",
   "metadata": {},
   "source": [
    "## numpy數學運算\n",
    "## numpy實體的property size"
   ]
  },
  {
   "cell_type": "code",
   "execution_count": null,
   "id": "99ac9834",
   "metadata": {},
   "outputs": [
    {
     "data": {
      "text/plain": [
       "(25,)"
      ]
     },
     "execution_count": 20,
     "metadata": {},
     "output_type": "execute_result"
    }
   ],
   "source": [
    "t = np.arange(0, 2.5, 0.1)\n",
    "t.size\n",
    "t.ndim\n",
    "t.dtype\n",
    "t.shape"
   ]
  },
  {
   "cell_type": "code",
   "execution_count": 32,
   "id": "01350dbe",
   "metadata": {},
   "outputs": [
    {
     "data": {
      "image/png": "[encoded data removed]",
      "text/plain": [
       "<Figure size 640x480 with 1 Axes>"
      ]
     },
     "metadata": {},
     "output_type": "display_data"
    }
   ],
   "source": [
    "import math\n",
    "import matplotlib.pyplot as plt\n",
    "\n",
    "t = np.arange(0, 2.5, 0.1)\n",
    "y1 = np.sin(t * math.pi)\n",
    "y2 = np.sin(t * math.pi + math.pi/2)\n",
    "y3 = np.sin(t * math.pi - math.pi/2)\n",
    "\n",
    "plt.plot(t, y1,marker=\"*\", color='blue',linestyle='')\n",
    "plt.plot(t, y2,marker=\"^\", color='green',linestyle='')\n",
    "plt.plot(t, y3,marker=\"s\", color='yellow',linestyle='')\n",
    "plt.savefig('a.png')\n",
    "plt.show()\n",
    "plt.close()"
   ]
  }
 ],
 "metadata": {
  "kernelspec": {
   "display_name": "python2_4",
   "language": "python",
   "name": "python3"
  },
  "language_info": {
   "codemirror_mode": {
    "name": "ipython",
    "version": 3
   },
   "file_extension": ".py",
   "mimetype": "text/x-python",
   "name": "python",
   "nbconvert_exporter": "python",
   "pygments_lexer": "ipython3",
   "version": "3.11.11"
  }
 },
 "nbformat": 4,
 "nbformat_minor": 5
}
