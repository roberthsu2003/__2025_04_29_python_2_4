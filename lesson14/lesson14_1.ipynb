{
 "cells": [
  {
   "cell_type": "markdown",
   "id": "8a0db8ff",
   "metadata": {},
   "source": [
    "https://www.perplexity.ai/search/0ead468a-cad0-4bd6-8c76-b23fcd5773f4"
   ]
  },
  {
   "cell_type": "code",
   "execution_count": null,
   "id": "079cf14a",
   "metadata": {},
   "outputs": [
    {
     "data": {
      "text/plain": [
       "[1, 3, 5, 7, 9, 2, 4, 6, 8, 10]"
      ]
     },
     "execution_count": 1,
     "metadata": {},
     "output_type": "execute_result"
    }
   ],
   "source": [
    "odd = [1, 3, 5, 7, 9]\n",
    "even = [2, 4, 6, 8, 10]\n",
    "\n",
    "#list使用`+`運算子\n",
    "odd + even\n",
    "\n",
    "#如果要對元素作用,必需取出元素"
   ]
  },
  {
   "cell_type": "code",
   "execution_count": null,
   "id": "9a82010a",
   "metadata": {},
   "outputs": [
    {
     "data": {
      "text/plain": [
       "array([1, 1, 1, 1, 1])"
      ]
     },
     "execution_count": 8,
     "metadata": {},
     "output_type": "execute_result"
    }
   ],
   "source": [
    "import numpy as np\n",
    "\n",
    "odd_array = np.array(odd)\n",
    "even_array = np.array(even)\n",
    "\n",
    "#ndarray使用`+`運算子\n",
    "#ndarray -> 陣列運算\n",
    "#就可以省略for...in 迴圈\n",
    "odd_array + even_array\n",
    "odd_array * even_array\n",
    "odd_array / even_array\n",
    "even_array - odd_array"
   ]
  }
 ],
 "metadata": {
  "kernelspec": {
   "display_name": "python2_4",
   "language": "python",
   "name": "python3"
  },
  "language_info": {
   "codemirror_mode": {
    "name": "ipython",
    "version": 3
   },
   "file_extension": ".py",
   "mimetype": "text/x-python",
   "name": "python",
   "nbconvert_exporter": "python",
   "pygments_lexer": "ipython3",
   "version": "3.11.11"
  }
 },
 "nbformat": 4,
 "nbformat_minor": 5
}
