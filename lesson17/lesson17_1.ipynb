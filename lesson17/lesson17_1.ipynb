{
 "cells": [
  {
   "cell_type": "markdown",
   "id": "7acd6ced",
   "metadata": {},
   "source": [
    "https://www.perplexity.ai/search/541099c9-ea3f-4aaa-98b2-53af4156f3cc"
   ]
  },
  {
   "cell_type": "markdown",
   "id": "770d6f6e",
   "metadata": {},
   "source": [
    "### 需要安裝jinja2套件"
   ]
  },
  {
   "cell_type": "code",
   "execution_count": null,
   "id": "20abf2c5",
   "metadata": {},
   "outputs": [
    {
     "data": {
      "text/html": [
       "<div>\n",
       "<style scoped>\n",
       "    .dataframe tbody tr th:only-of-type {\n",
       "        vertical-align: middle;\n",
       "    }\n",
       "\n",
       "    .dataframe tbody tr th {\n",
       "        vertical-align: top;\n",
       "    }\n",
       "\n",
       "    .dataframe thead th {\n",
       "        text-align: right;\n",
       "    }\n",
       "</style>\n",
       "<table border=\"1\" class=\"dataframe\">\n",
       "  <thead>\n",
       "    <tr style=\"text-align: right;\">\n",
       "      <th></th>\n",
       "      <th>strings</th>\n",
       "      <th>ints</th>\n",
       "      <th>floats</th>\n",
       "    </tr>\n",
       "  </thead>\n",
       "  <tbody>\n",
       "    <tr>\n",
       "      <th>0</th>\n",
       "      <td>Adam</td>\n",
       "      <td>1</td>\n",
       "      <td>1.123</td>\n",
       "    </tr>\n",
       "    <tr>\n",
       "      <th>1</th>\n",
       "      <td>Mike</td>\n",
       "      <td>3</td>\n",
       "      <td>1000.230</td>\n",
       "    </tr>\n",
       "  </tbody>\n",
       "</table>\n",
       "</div>"
      ],
      "text/plain": [
       "  strings  ints    floats\n",
       "0    Adam     1     1.123\n",
       "1    Mike     3  1000.230"
      ]
     },
     "metadata": {},
     "output_type": "display_data"
    },
    {
     "data": {
      "text/html": [
       "<style type=\"text/css\">\n",
       "</style>\n",
       "<table id=\"T_8fc4f\">\n",
       "  <thead>\n",
       "    <tr>\n",
       "      <th class=\"blank level0\" >&nbsp;</th>\n",
       "      <th id=\"T_8fc4f_level0_col0\" class=\"col_heading level0 col0\" >STRINGS</th>\n",
       "      <th id=\"T_8fc4f_level0_col1\" class=\"col_heading level0 col1\" >INTS</th>\n",
       "      <th id=\"T_8fc4f_level0_col2\" class=\"col_heading level0 col2\" >FLOATS</th>\n",
       "    </tr>\n",
       "  </thead>\n",
       "  <tbody>\n",
       "    <tr>\n",
       "      <th id=\"T_8fc4f_level0_row0\" class=\"row_heading level0 row0\" >列1</th>\n",
       "      <td id=\"T_8fc4f_row0_col0\" class=\"data row0 col0\" >Adam</td>\n",
       "      <td id=\"T_8fc4f_row0_col1\" class=\"data row0 col1\" >1</td>\n",
       "      <td id=\"T_8fc4f_row0_col2\" class=\"data row0 col2\" >1.123</td>\n",
       "    </tr>\n",
       "    <tr>\n",
       "      <th id=\"T_8fc4f_level0_row1\" class=\"row_heading level0 row1\" >列2</th>\n",
       "      <td id=\"T_8fc4f_row1_col0\" class=\"data row1 col0\" >Mike</td>\n",
       "      <td id=\"T_8fc4f_row1_col1\" class=\"data row1 col1\" >3</td>\n",
       "      <td id=\"T_8fc4f_row1_col2\" class=\"data row1 col2\" >1,000.230</td>\n",
       "    </tr>\n",
       "  </tbody>\n",
       "</table>\n"
      ],
      "text/plain": [
       "<pandas.io.formats.style.Styler at 0x137125d80>"
      ]
     },
     "execution_count": 19,
     "metadata": {},
     "output_type": "execute_result"
    }
   ],
   "source": [
    "#Styler.format()\n",
    "#Style.format_index()\n",
    "#Style.relabel_index()\n",
    "\n",
    "import pandas as pd\n",
    "import numpy as np \n",
    "\n",
    "df = pd.DataFrame({\n",
    "    \"strings\": [\"Adam\", \"Mike\"],\n",
    "    \"ints\": [1, 3],\n",
    "    \"floats\": [1.123, 1000.23]\n",
    "})\n",
    "type(df.style)\n",
    "\n",
    "display(df)\n",
    "s = df.style\\\n",
    ".format(precision=3, thousands=\",\", decimal='.')\\\n",
    ".format_index(str.upper,axis=1)\\\n",
    ".relabel_index([\"列1\",\"列2\"])\n",
    "\n",
    "s"
   ]
  },
  {
   "cell_type": "code",
   "execution_count": 28,
   "id": "ec961c01",
   "metadata": {},
   "outputs": [
    {
     "name": "stdout",
     "output_type": "stream",
     "text": [
      "<class 'pandas.core.frame.DataFrame'>\n",
      "DatetimeIndex: 600 entries, 2024-01-01 to 2025-08-22\n",
      "Freq: D\n",
      "Data columns (total 2 columns):\n",
      " #   Column  Non-Null Count  Dtype  \n",
      "---  ------  --------------  -----  \n",
      " 0   東京      600 non-null    float64\n",
      " 1   台北      600 non-null    float64\n",
      "dtypes: float64(2)\n",
      "memory usage: 14.1 KB\n"
     ]
    }
   ],
   "source": [
    "weather_df = pd.DataFrame(np.random.rand(600,2)*5,\n",
    "                          index=pd.date_range(start=\"2024-01-01\", periods=600),\n",
    "                          columns=[\"東京\",\"台北\"]\n",
    "                          )\n",
    "weather_df.info()"
   ]
  },
  {
   "cell_type": "code",
   "execution_count": null,
   "id": "11af0ba9",
   "metadata": {},
   "outputs": [
    {
     "data": {
      "text/html": [
       "<div>\n",
       "<style scoped>\n",
       "    .dataframe tbody tr th:only-of-type {\n",
       "        vertical-align: middle;\n",
       "    }\n",
       "\n",
       "    .dataframe tbody tr th {\n",
       "        vertical-align: top;\n",
       "    }\n",
       "\n",
       "    .dataframe thead th {\n",
       "        text-align: right;\n",
       "    }\n",
       "</style>\n",
       "<table border=\"1\" class=\"dataframe\">\n",
       "  <thead>\n",
       "    <tr style=\"text-align: right;\">\n",
       "      <th></th>\n",
       "      <th>東京</th>\n",
       "      <th>台北</th>\n",
       "    </tr>\n",
       "  </thead>\n",
       "  <tbody>\n",
       "    <tr>\n",
       "      <th>2024-01-01</th>\n",
       "      <td>2.813360</td>\n",
       "      <td>1.467526</td>\n",
       "    </tr>\n",
       "    <tr>\n",
       "      <th>2024-01-02</th>\n",
       "      <td>4.434203</td>\n",
       "      <td>2.276502</td>\n",
       "    </tr>\n",
       "    <tr>\n",
       "      <th>2024-01-03</th>\n",
       "      <td>2.548452</td>\n",
       "      <td>0.219510</td>\n",
       "    </tr>\n",
       "    <tr>\n",
       "      <th>2024-01-04</th>\n",
       "      <td>4.817743</td>\n",
       "      <td>0.209706</td>\n",
       "    </tr>\n",
       "    <tr>\n",
       "      <th>2024-01-05</th>\n",
       "      <td>0.205513</td>\n",
       "      <td>0.647799</td>\n",
       "    </tr>\n",
       "    <tr>\n",
       "      <th>...</th>\n",
       "      <td>...</td>\n",
       "      <td>...</td>\n",
       "    </tr>\n",
       "    <tr>\n",
       "      <th>2024-12-27</th>\n",
       "      <td>1.131378</td>\n",
       "      <td>3.222577</td>\n",
       "    </tr>\n",
       "    <tr>\n",
       "      <th>2024-12-28</th>\n",
       "      <td>4.798495</td>\n",
       "      <td>0.131684</td>\n",
       "    </tr>\n",
       "    <tr>\n",
       "      <th>2024-12-29</th>\n",
       "      <td>0.039608</td>\n",
       "      <td>0.005042</td>\n",
       "    </tr>\n",
       "    <tr>\n",
       "      <th>2024-12-30</th>\n",
       "      <td>0.226267</td>\n",
       "      <td>2.356729</td>\n",
       "    </tr>\n",
       "    <tr>\n",
       "      <th>2024-12-31</th>\n",
       "      <td>3.618304</td>\n",
       "      <td>3.508453</td>\n",
       "    </tr>\n",
       "  </tbody>\n",
       "</table>\n",
       "<p>366 rows × 2 columns</p>\n",
       "</div>"
      ],
      "text/plain": [
       "                  東京        台北\n",
       "2024-01-01  2.813360  1.467526\n",
       "2024-01-02  4.434203  2.276502\n",
       "2024-01-03  2.548452  0.219510\n",
       "2024-01-04  4.817743  0.209706\n",
       "2024-01-05  0.205513  0.647799\n",
       "...              ...       ...\n",
       "2024-12-27  1.131378  3.222577\n",
       "2024-12-28  4.798495  0.131684\n",
       "2024-12-29  0.039608  0.005042\n",
       "2024-12-30  0.226267  2.356729\n",
       "2024-12-31  3.618304  3.508453\n",
       "\n",
       "[366 rows x 2 columns]"
      ]
     },
     "execution_count": 30,
     "metadata": {},
     "output_type": "execute_result"
    }
   ],
   "source": [
    "#因為索引是datetime的資料\n",
    "weather_df.loc['2024-01-10':'2024-01-30']\n",
    "weather_df.loc['2024-01']\n",
    "weather_df.loc['2024']"
   ]
  }
 ],
 "metadata": {
  "kernelspec": {
   "display_name": "data_analysis2_4",
   "language": "python",
   "name": "python3"
  },
  "language_info": {
   "codemirror_mode": {
    "name": "ipython",
    "version": 3
   },
   "file_extension": ".py",
   "mimetype": "text/x-python",
   "name": "python",
   "nbconvert_exporter": "python",
   "pygments_lexer": "ipython3",
   "version": "3.10.18"
  }
 },
 "nbformat": 4,
 "nbformat_minor": 5
}
